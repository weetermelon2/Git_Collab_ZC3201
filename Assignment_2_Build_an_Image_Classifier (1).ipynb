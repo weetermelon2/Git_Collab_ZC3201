{
  "cells": [
    {
      "cell_type": "markdown",
      "metadata": {
        "id": "_M47oZUfDT4u"
      },
      "source": [
        "**Make sure your compute resource is set to GPU else you'll need to reset your session from scratch**\n",
        "\n",
        "---\n",
        "Group yourself to 3 max, and fill in below details\n",
        "Group member detail(s): \\\n",
        "1. Full Name - Student ID\n",
        "2. Full Name - Student ID\n",
        "3. Full Name - Student ID\n",
        "\n",
        "Some of the concepts may be technically advanced, instead, it is to focus on learning how to effectively use Google Colab for scientific research. Don't fret if you dont understand any of codes written for you."
      ]
    },
    {
      "cell_type": "code",
      "execution_count": 39,
      "metadata": {
        "colab": {
          "base_uri": "https://localhost:8080/",
          "height": 36
        },
        "id": "RSgjel5eXOrf",
        "outputId": "b75eaa23-647c-4ecc-e1ad-0f0b79dc0b56"
      },
      "outputs": [
        {
          "output_type": "execute_result",
          "data": {
            "text/plain": [
              "'1. Wee Chee Hung - 21B6015'"
            ],
            "application/vnd.google.colaboratory.intrinsic+json": {
              "type": "string"
            }
          },
          "metadata": {},
          "execution_count": 39
        }
      ],
      "source": [
        "\"1. Wee Chee Hung - 21B6015\""
      ]
    },
    {
      "cell_type": "markdown",
      "metadata": {
        "id": "1Xprg08vEQqD"
      },
      "source": [
        "# Setting up Environment"
      ]
    },
    {
      "cell_type": "markdown",
      "metadata": {
        "id": "bAOS-EJzEavg"
      },
      "source": [
        "Task 1: Set Up the Environment \\\n",
        "Import the necessary libraries for the exercise, PyTorch for neural network training.\\\n",
        "Load the CIFAR10 dataset.\n"
      ]
    },
    {
      "cell_type": "code",
      "execution_count": 28,
      "metadata": {
        "id": "1qZrtDipATDh"
      },
      "outputs": [],
      "source": [
        "import torch\n",
        "import torch.nn as nn\n",
        "import torch.optim as optim\n",
        "import torchvision\n",
        "import torchvision.transforms as transforms\n",
        "from torch.utils.data import DataLoader"
      ]
    },
    {
      "cell_type": "code",
      "execution_count": 29,
      "metadata": {
        "id": "J23xkfU4AVpC"
      },
      "outputs": [],
      "source": [
        "# Set the device to GPU if available, otherwise, use CPU\n",
        "# device = torch.device('cuda' if torch.cuda.is_available() else 'cpu')\n",
        "\n",
        "device = torch.device('cpu')"
      ]
    },
    {
      "cell_type": "code",
      "execution_count": 30,
      "metadata": {
        "id": "u1bdybnT-Z1j"
      },
      "outputs": [],
      "source": [
        "# Define the modified neural network architecture for CIFAR-10\n",
        "class SimpleCNN(nn.Module):\n",
        "    def __init__(self):\n",
        "        super(SimpleCNN, self).__init__()\n",
        "        self.conv1 = nn.Conv2d(3, 16, kernel_size=3, stride=1, padding=1)\n",
        "        self.relu1 = nn.ReLU()\n",
        "        self.pool1 = nn.MaxPool2d(kernel_size=2, stride=2)\n",
        "        self.conv2 = nn.Conv2d(16, 32, kernel_size=3, stride=1, padding=1)\n",
        "        self.relu2 = nn.ReLU()\n",
        "        self.pool2 = nn.MaxPool2d(kernel_size=2, stride=2)\n",
        "        self.fc1 = nn.Linear(8 * 8 * 32, 128)  # Adjusted for CIFAR-10 image size\n",
        "        self.relu3 = nn.ReLU()\n",
        "        self.fc2 = nn.Linear(128, 10)  # Output size matches the number of CIFAR-10 classes (10)\n",
        "\n",
        "    def forward(self, x):\n",
        "        x = self.conv1(x)\n",
        "        x = self.relu1(x)\n",
        "        x = self.pool1(x)\n",
        "        x = self.conv2(x)\n",
        "        x = self.relu2(x)\n",
        "        x = self.pool2(x)\n",
        "        x = x.view(-1, 8 * 8 * 32)  # Adjusted for CIFAR-10 image size\n",
        "        x = self.fc1(x)\n",
        "        x = self.relu3(x)\n",
        "        x = self.fc2(x)\n",
        "        return x\n"
      ]
    },
    {
      "cell_type": "markdown",
      "metadata": {
        "id": "KACp73JDFg57"
      },
      "source": [
        "Below are the Hyperparameters for the neural network (think of it as knobs that you can tune to enhance performance)\n"
      ]
    },
    {
      "cell_type": "markdown",
      "metadata": {
        "id": "lmsOBQ1kXFHA"
      },
      "source": [
        "Task 4: Model debugging (Mess around with these 3 hyperparameters) \\\n",
        "hint: \\\n",
        "LEARNING_RATE: The current value is set to 1e10 (10000000000.0). Try adjusting it to find an optimal learning rate.\\\n",
        "BATCH_SIZE: Set it to a power of 2, such as 16, 32, or 64, to potentially improve training efficiency. \\\n",
        "EPOCH: Consider letting the model train for more epochs. The default value is set to 1; experiment with longer training durations for better convergence and performance evaluation."
      ]
    },
    {
      "cell_type": "code",
      "execution_count": 31,
      "metadata": {
        "id": "NDlnlmgKFhiK"
      },
      "outputs": [],
      "source": [
        "BATCH_SIZE = 2\n",
        "LEARNING_RATE = 0.0001\n",
        "EPOCH = 10"
      ]
    },
    {
      "cell_type": "code",
      "execution_count": 32,
      "metadata": {
        "id": "G5q7aHCZAZWw"
      },
      "outputs": [],
      "source": [
        "# Function to train the model\n",
        "def train_model(model, train_loader, criterion, optimizer, num_epochs=5):\n",
        "    model.to(device)\n",
        "    model.train()\n",
        "    for epoch in range(num_epochs):\n",
        "        running_loss = 0.0\n",
        "        correct_predictions = 0  # Initialize a counter for correct predictions\n",
        "        total_samples = 0  # Initialize a counter for total samples\n",
        "\n",
        "        for inputs, labels in train_loader:\n",
        "            inputs, labels = inputs.to(device), labels.to(device)\n",
        "            optimizer.zero_grad()\n",
        "            outputs = model(inputs)\n",
        "            loss = criterion(outputs, labels)\n",
        "            loss.backward()\n",
        "            optimizer.step()\n",
        "            running_loss += loss.item()\n",
        "\n",
        "             # Measure accuracy\n",
        "            _, predicted = torch.max(outputs, 1)\n",
        "            correct_predictions += (predicted == labels).sum().item()\n",
        "            total_samples += labels.size(0)\n",
        "\n",
        "        # Calculate accuracy for the current epoch\n",
        "        accuracy = 100.0 * correct_predictions / total_samples\n",
        "        print(f\"Epoch {epoch+1}/{num_epochs}, Loss: {running_loss/len(train_loader):.4f}, Accuracy: {accuracy}\")\n",
        "    print(\"Training complete!\")\n"
      ]
    },
    {
      "cell_type": "code",
      "execution_count": 33,
      "metadata": {
        "colab": {
          "base_uri": "https://localhost:8080/"
        },
        "id": "k59nYWhsB1n0",
        "outputId": "39153017-6577-459a-ea03-f18c2192bd56"
      },
      "outputs": [
        {
          "output_type": "stream",
          "name": "stdout",
          "text": [
            "Files already downloaded and verified\n"
          ]
        }
      ],
      "source": [
        "trainset = torchvision.datasets.CIFAR10(root='./data', train=True,\n",
        "                                        download=True, transform=transforms)"
      ]
    },
    {
      "cell_type": "code",
      "execution_count": 34,
      "metadata": {
        "colab": {
          "base_uri": "https://localhost:8080/"
        },
        "id": "AnSb5bBsAakx",
        "outputId": "0e5707e3-fd88-4c79-a5e6-81641d32b99e"
      },
      "outputs": [
        {
          "output_type": "stream",
          "name": "stdout",
          "text": [
            "Files already downloaded and verified\n"
          ]
        }
      ],
      "source": [
        "# Load and preprocess the CFAR10 dataset\n",
        "transform = transforms.Compose([transforms.ToTensor(), transforms.Normalize((0.5,), (0.5,))])\n",
        "#TODO: Complete below line to import CIFAR10 dataset\n",
        "#uncommented the 2 lines of code and added the dataset CIFAR10 to be downloaded\n",
        "train_set = torchvision.datasets.CIFAR10(root='./data', train=True,download=True, transform=transform)\n",
        "train_loader = DataLoader(train_set, batch_size=BATCH_SIZE, shuffle=True)"
      ]
    },
    {
      "cell_type": "code",
      "execution_count": 35,
      "metadata": {
        "colab": {
          "base_uri": "https://localhost:8080/"
        },
        "id": "h9uu5lfFF-FH",
        "outputId": "9f92f082-9c7a-494f-8280-a17d12ee5b5b"
      },
      "outputs": [
        {
          "output_type": "execute_result",
          "data": {
            "text/plain": [
              "['airplane',\n",
              " 'automobile',\n",
              " 'bird',\n",
              " 'cat',\n",
              " 'deer',\n",
              " 'dog',\n",
              " 'frog',\n",
              " 'horse',\n",
              " 'ship',\n",
              " 'truck']"
            ]
          },
          "metadata": {},
          "execution_count": 35
        }
      ],
      "source": [
        "train_set.classes"
      ]
    },
    {
      "cell_type": "code",
      "execution_count": 36,
      "metadata": {
        "id": "EUYLg9WRAdUp"
      },
      "outputs": [],
      "source": [
        "# Create the model, loss function, and optimizer\n",
        "model = SimpleCNN()\n",
        "criterion = nn.CrossEntropyLoss()\n",
        "optimizer = optim.SGD(model.parameters(), lr=LEARNING_RATE, momentum=0.9)"
      ]
    },
    {
      "cell_type": "markdown",
      "metadata": {
        "id": "u8Yh4J-wUR1W"
      },
      "source": [
        "Task 2: Measure performance difference training between GPU and CPU\n"
      ]
    },
    {
      "cell_type": "code",
      "execution_count": 37,
      "metadata": {
        "colab": {
          "base_uri": "https://localhost:8080/"
        },
        "id": "teF6NB2dAeV-",
        "outputId": "90eae573-ce36-43c6-c478-0f76ffb56608"
      },
      "outputs": [
        {
          "output_type": "stream",
          "name": "stdout",
          "text": [
            "Epoch 1/10, Loss: 1.8226, Accuracy: 34.272\n",
            "Epoch 2/10, Loss: 1.3928, Accuracy: 49.91\n",
            "Epoch 3/10, Loss: 1.2167, Accuracy: 56.88\n",
            "Epoch 4/10, Loss: 1.0904, Accuracy: 61.48\n",
            "Epoch 5/10, Loss: 0.9913, Accuracy: 65.172\n",
            "Epoch 6/10, Loss: 0.9132, Accuracy: 68.008\n",
            "Epoch 7/10, Loss: 0.8485, Accuracy: 70.284\n",
            "Epoch 8/10, Loss: 0.7899, Accuracy: 72.638\n",
            "Epoch 9/10, Loss: 0.7326, Accuracy: 74.558\n",
            "Epoch 10/10, Loss: 0.6799, Accuracy: 76.452\n",
            "Training complete!\n"
          ]
        }
      ],
      "source": [
        "# Train the model\n",
        "train_model(model, train_loader, criterion, optimizer, num_epochs=EPOCH)\n",
        "#time taken to train using GPU : 10 mins 11 seconds\n",
        "#Epoch 1/10, Loss: 1.8062, Accuracy: 35.684\n",
        "#Epoch 2/10, Loss: 1.3978, Accuracy: 49.558\n",
        "#Epoch 3/10, Loss: 1.2288, Accuracy: 56.144\n",
        "#Epoch 4/10, Loss: 1.1054, Accuracy: 60.808\n",
        "#Epoch 5/10, Loss: 1.0011, Accuracy: 64.808\n",
        "#Epoch 6/10, Loss: 0.9184, Accuracy: 67.662\n",
        "#Epoch 7/10, Loss: 0.8497, Accuracy: 70.394\n",
        "#Epoch 8/10, Loss: 0.7896, Accuracy: 72.584\n",
        "#Epoch 9/10, Loss: 0.7325, Accuracy: 74.546\n",
        "#Epoch 10/10, Loss: 0.6752, Accuracy: 76.644\n",
        "\n",
        "#time taken to train using CPU : 15 mins 32 seconds\n",
        "#Epoch 1/10, Loss: 1.8226, Accuracy: 34.272\n",
        "#Epoch 2/10, Loss: 1.3928, Accuracy: 49.91\n",
        "#Epoch 3/10, Loss: 1.2167, Accuracy: 56.88\n",
        "#Epoch 4/10, Loss: 1.0904, Accuracy: 61.48\n",
        "#Epoch 5/10, Loss: 0.9913, Accuracy: 65.172\n",
        "#Epoch 6/10, Loss: 0.9132, Accuracy: 68.008\n",
        "#Epoch 7/10, Loss: 0.8485, Accuracy: 70.284\n",
        "#Epoch 8/10, Loss: 0.7899, Accuracy: 72.638\n",
        "#Epoch 9/10, Loss: 0.7326, Accuracy: 74.558\n",
        "#Epoch 10/10, Loss: 0.6799, Accuracy: 76.452"
      ]
    },
    {
      "cell_type": "markdown",
      "metadata": {
        "id": "IyN4gk65UUAl"
      },
      "source": [
        "Report your findings on:\n",
        "*   What were the key differences you observed in the training speed between the GPU and CPU?\n",
        "   \n",
        "   From my observations and testings, GPU has a faster training speed compared to CPU, this results in a more efficient training method to use GPU instead, since it can go through more epochs at the same time frame as compared to CPU\n",
        "*   Were there any challenges or limitations you encountered while using the GPU for training?\n",
        "\n",
        "  I did not encounter any challanges or limitations while using the GPU for training\n",
        "\n",
        "*   Did you notice any impact on the final model's performance (accuracy, loss) when trained on the GPU versus the CPU?\n",
        "\n",
        "  Yes, i have noticed there is a slight difference in the final model's performance between training using GPU and CPU, here are the final results :\n",
        "\n",
        "   GPU training :\n",
        "   Loss: 0.6752, Accuracy: 76.644\n",
        "\n",
        "   CPU training :\n",
        "   Loss: 0.6799, Accuracy: 76.452\n",
        "\n",
        "   CPU has slightly more loss and is slightly less accurate as compared to training done using GPU"
      ]
    },
    {
      "cell_type": "markdown",
      "metadata": {
        "id": "EsInMplEVyCK"
      },
      "source": [
        "Task 3: Visualize Loss and Accuracy\n"
      ]
    },
    {
      "cell_type": "code",
      "execution_count": 38,
      "metadata": {
        "id": "jGiiegGeVYEn",
        "colab": {
          "base_uri": "https://localhost:8080/",
          "height": 407
        },
        "outputId": "e14e90fe-4503-4e29-b77a-35347ea9d79e"
      },
      "outputs": [
        {
          "output_type": "display_data",
          "data": {
            "text/plain": [
              "<Figure size 1200x400 with 2 Axes>"
            ],
            "image/png": "[encoded data removed]"
          },
          "metadata": {}
        }
      ],
      "source": [
        "#TODO:\n",
        "#Your plots goes here\n",
        "import matplotlib.pyplot as plt\n",
        "\n",
        "# Data for the first set (GPU)\n",
        "loss_gpu = [1.8062, 1.3978, 1.2288, 1.1054, 1.0011, 0.9184, 0.8497, 0.7896, 0.7325, 0.6752]\n",
        "accuracy_gpu = [35.684, 49.558, 56.144, 60.808, 64.808, 67.662, 70.394, 72.584, 74.546, 76.644]\n",
        "\n",
        "# Data for the second set (CPU)\n",
        "loss_cpu = [1.8226, 1.3928, 1.2167, 1.0904, 0.9913, 0.9132, 0.8485, 0.7899, 0.7326, 0.6799]\n",
        "accuracy_cpu = [34.272, 49.91, 56.88, 61.48, 65.172, 68.008, 70.284, 72.638, 74.558, 76.452]\n",
        "\n",
        "# Create two subplots (Loss and Accuracy)\n",
        "fig, (ax1, ax2) = plt.subplots(1, 2, figsize=(12, 4))\n",
        "\n",
        "# Plot Loss against Epochs\n",
        "ax1.plot(range(1, 11), loss_gpu, label='GPU', marker='o')\n",
        "ax1.plot(range(1, 11), loss_cpu, label='CPU', marker='x')\n",
        "ax1.set_xlabel('Epochs')\n",
        "ax1.set_ylabel('Loss')\n",
        "ax1.set_title('Loss vs. Epochs')\n",
        "ax1.legend()\n",
        "\n",
        "# Plot Accuracy against Epochs\n",
        "ax2.plot(range(1, 11), accuracy_gpu, label='GPU', marker='o')\n",
        "ax2.plot(range(1, 11), accuracy_cpu, label='CPU', marker='x')\n",
        "ax2.set_xlabel('Epochs')\n",
        "ax2.set_ylabel('Accuracy')\n",
        "ax2.set_title('Accuracy vs. Epochs')\n",
        "ax2.legend()\n",
        "\n",
        "# Display the plots\n",
        "plt.tight_layout()\n",
        "plt.show()"
      ]
    },
    {
      "cell_type": "markdown",
      "metadata": {
        "id": "WUNYsuwRX-VT"
      },
      "source": [
        "Task 4: Test your own Image \\\n",
        "You can use the same code from the tutorial and ensure your model is properly trained!\n",
        "\n"
      ]
    },
    {
      "cell_type": "code",
      "execution_count": null,
      "metadata": {
        "id": "LN02H0eTYC68"
      },
      "outputs": [],
      "source": [
        "transform = transforms.Compose([\n",
        "    transforms.Resize((32, 32)),  # Resize the image to match the model input size\n",
        "    transforms.ToTensor(),  # Convert the image to a tensor\n",
        "   transforms.Normalize((0.5,), (0.5,)),  # Normalize the image\n",
        "])\n",
        "\n",
        "# Function to preprocess and make predictions on the uploaded image\n",
        "def predict_uploaded_image(upload):\n",
        "    # Open the uploaded image\n",
        "    image = Image.open(upload).convert('RGB')\n",
        "    model.to(\"cpu\")  # Set the model to evaluation mode\n",
        "\n",
        "    # Preprocess the image\n",
        "    input_tensor = transform(image)\n",
        "    input_batch = input_tensor.unsqueeze(0)  # Add a batch dimension\n",
        "\n",
        "    # Make predictions using the model\n",
        "    with torch.no_grad():\n",
        "        output = model(input_batch)\n",
        "    _, predicted_idx = torch.max(output, 1)\n",
        "\n",
        "    print(f\"Predicted labels: {predicted_idx}\")"
      ]
    },
    {
      "cell_type": "code",
      "source": [
        "# Upload an image for prediction\n",
        "uploaded = files.upload()\n",
        "\n",
        "# If an image is uploaded, call the prediction function\n",
        "if len(uploaded) > 0:\n",
        "    for file_name in uploaded.keys():\n",
        "        predict_uploaded_image(file_name)\n",
        "else:\n",
        "    print(\"No image uploaded.\")\n"
      ],
      "metadata": {
        "id": "vWQ0V12KxNr5"
      },
      "execution_count": null,
      "outputs": []
    }
  ],
  "metadata": {
    "accelerator": "GPU",
    "colab": {
      "gpuType": "T4",
      "provenance": []
    },
    "kernelspec": {
      "display_name": "Python 3",
      "name": "python3"
    },
    "language_info": {
      "name": "python",
      "version": "3.10.9"
    },
    "vscode": {
      "interpreter": {
        "hash": "65a440aeac0c89e2af7569e0aa53b64434c4b69eb6285e2b0d174d9bca190d54"
      }
    }
  },
  "nbformat": 4,
  "nbformat_minor": 0
}